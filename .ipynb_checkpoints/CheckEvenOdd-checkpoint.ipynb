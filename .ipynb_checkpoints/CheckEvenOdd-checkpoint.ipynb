{
 "cells": [
  {
   "cell_type": "code",
   "execution_count": 4,
   "metadata": {},
   "outputs": [
    {
     "name": "stdout",
     "output_type": "stream",
     "text": [
      "Enter an Integer number:\n"
     ]
    },
    {
     "name": "stderr",
     "output_type": "stream",
     "text": [
      "[ERROR] null\n",
      "java.util.NoSuchElementException\n",
      "\tat java.util.Scanner.throwFor(Scanner.java:862)\n",
      "\tat java.util.Scanner.next(Scanner.java:1485)\n",
      "\tat java.util.Scanner.nextInt(Scanner.java:2117)\n",
      "\tat java.util.Scanner.nextInt(Scanner.java:2076)\n",
      "\tat java_util_Scanner$nextInt.call(Unknown Source)\n",
      "\tat org.codehaus.groovy.runtime.callsite.CallSiteArray.defaultCall(CallSiteArray.java:48)\n",
      "\tat org.codehaus.groovy.runtime.callsite.AbstractCallSite.call(AbstractCallSite.java:113)\n",
      "\tat org.codehaus.groovy.runtime.callsite.AbstractCallSite.call(AbstractCallSite.java:117)\n",
      "\tat CheckEvenOdd.main(Script4.groovy:12)\n",
      "\tat sun.reflect.NativeMethodAccessorImpl.invoke0(Native Method)\n",
      "\tat sun.reflect.NativeMethodAccessorImpl.invoke(NativeMethodAccessorImpl.java:62)\n",
      "\tat sun.reflect.DelegatingMethodAccessorImpl.invoke(DelegatingMethodAccessorImpl.java:43)\n",
      "\tat java.lang.reflect.Method.invoke(Method.java:498)\n",
      "\tat org.codehaus.groovy.reflection.CachedMethod.invoke(CachedMethod.java:93)\n",
      "\tat groovy.lang.MetaMethod.doMethodInvoke(MetaMethod.java:325)\n",
      "\tat groovy.lang.MetaClassImpl.invokeMethod(MetaClassImpl.java:1218)\n",
      "\tat groovy.lang.MetaClassImpl.invokeMethod(MetaClassImpl.java:1027)\n",
      "\tat groovy.lang.MetaClassImpl.invokeMethod(MetaClassImpl.java:815)\n",
      "\tat CheckEvenOdd.invokeMethod(Script4.groovy)\n",
      "\tat org.codehaus.groovy.runtime.InvokerHelper$1.run(InvokerHelper.java:452)\n",
      "\tat org.scijava.plugins.scripting.groovy.GroovyScriptEngine.eval(GroovyScriptEngine.java:303)\n",
      "\tat org.scijava.plugins.scripting.groovy.GroovyScriptEngine.eval(GroovyScriptEngine.java:122)\n",
      "\tat javax.script.AbstractScriptEngine.eval(AbstractScriptEngine.java:264)\n",
      "\tat org.scijava.script.ScriptModule.run(ScriptModule.java:160)\n",
      "\tat org.scijava.module.ModuleRunner.run(ModuleRunner.java:168)\n",
      "\tat org.scijava.jupyter.kernel.evaluator.Worker.run(Worker.java:108)\n",
      "\tat org.scijava.thread.DefaultThreadService$2.run(DefaultThreadService.java:221)\n",
      "\tat java.util.concurrent.Executors$RunnableAdapter.call(Executors.java:511)\n",
      "\tat java.util.concurrent.FutureTask.run(FutureTask.java:266)\n",
      "\tat java.util.concurrent.ThreadPoolExecutor.runWorker(ThreadPoolExecutor.java:1142)\n",
      "\tat java.util.concurrent.ThreadPoolExecutor$Worker.run(ThreadPoolExecutor.java:617)\n",
      "\tat java.lang.Thread.run(Thread.java:745)\n"
     ]
    }
   ],
   "source": [
    "import java.util.Scanner;\n",
    "\n",
    "class CheckEvenOdd\n",
    "{\n",
    "  public static void main(String[] args) \n",
    "  {\n",
    "    int num;\n",
    "    System.out.println(\"Enter an Integer number:\");\n",
    "\n",
    "    //The input provided by user is stored in num\n",
    "    Scanner input = new Scanner(System.in);\n",
    "    num = input.nextInt();\n",
    "\n",
    "    /* If number is divisible by 2 then it's an even number\n",
    "     * else odd number*/\n",
    "    if ( num % 2 == 0 )\n",
    "        System.out.println(\"Entered number is even\");\n",
    "     else\n",
    "        System.out.println(\"Entered number is odd\");\n",
    "  }\n",
    "}"
   ]
  },
  {
   "cell_type": "code",
   "execution_count": null,
   "metadata": {},
   "outputs": [],
   "source": []
  }
 ],
 "metadata": {
  "kernelspec": {
   "display_name": "SciJava",
   "language": "groovy",
   "name": "scijava"
  },
  "language_info": {
   "codemirror_mode": "groovy",
   "file_extension": "",
   "mimetype": "",
   "name": "scijava",
   "nbconverter_exporter": "",
   "pygments_lexer": "groovy",
   "version": "1.0"
  }
 },
 "nbformat": 4,
 "nbformat_minor": 4
}
