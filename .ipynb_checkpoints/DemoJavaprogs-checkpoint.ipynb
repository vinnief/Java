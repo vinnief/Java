{
 "cells": [
  {
   "cell_type": "code",
   "execution_count": 1,
   "metadata": {},
   "outputs": [
    {
     "name": "stdout",
     "output_type": "stream",
     "text": [
      "Hello World\n"
     ]
    }
   ],
   "source": [
    "public class chimera {\n",
    "    public static void main(String [] args){\n",
    "        System.out.println(\"Hello World\")\n",
    "    }\n",
    "}"
   ]
  },
  {
   "cell_type": "markdown",
   "metadata": {},
   "source": [
    "from http://dumbitdude.com/how-to-take-input-from-user-in-java/  actually does not work in this Jupyter notebook: scanner is not in Scijava? \n",
    "https://github.com/scijava/scijava-jupyter-kernel/issues/96 says not"
   ]
  },
  {
   "cell_type": "code",
   "execution_count": 11,
   "metadata": {},
   "outputs": [
    {
     "name": "stderr",
     "output_type": "stream",
     "text": [
      "[ERROR] null\n",
      "java.util.NoSuchElementException: No line found\n",
      "\tat java.util.Scanner.nextLine(Scanner.java:1540)\n",
      "\tat java_util_Scanner$nextLine.call(Unknown Source)\n",
      "\tat org.codehaus.groovy.runtime.callsite.CallSiteArray.defaultCall(CallSiteArray.java:48)\n",
      "\tat org.codehaus.groovy.runtime.callsite.AbstractCallSite.call(AbstractCallSite.java:113)\n",
      "\tat org.codehaus.groovy.runtime.callsite.AbstractCallSite.call(AbstractCallSite.java:117)\n",
      "\tat kitty.Eric.main(Script10.groovy:7)\n",
      "\tat sun.reflect.NativeMethodAccessorImpl.invoke0(Native Method)\n",
      "\tat sun.reflect.NativeMethodAccessorImpl.invoke(NativeMethodAccessorImpl.java:62)\n",
      "\tat sun.reflect.DelegatingMethodAccessorImpl.invoke(DelegatingMethodAccessorImpl.java:43)\n",
      "\tat java.lang.reflect.Method.invoke(Method.java:498)\n",
      "\tat org.codehaus.groovy.reflection.CachedMethod.invoke(CachedMethod.java:93)\n",
      "\tat groovy.lang.MetaMethod.doMethodInvoke(MetaMethod.java:325)\n",
      "\tat groovy.lang.MetaClassImpl.invokeMethod(MetaClassImpl.java:1218)\n",
      "\tat groovy.lang.MetaClassImpl.invokeMethod(MetaClassImpl.java:1027)\n",
      "\tat groovy.lang.MetaClassImpl.invokeMethod(MetaClassImpl.java:815)\n",
      "\tat kitty.Eric.invokeMethod(Script10.groovy)\n",
      "\tat org.codehaus.groovy.runtime.InvokerHelper$1.run(InvokerHelper.java:452)\n",
      "\tat org.scijava.plugins.scripting.groovy.GroovyScriptEngine.eval(GroovyScriptEngine.java:303)\n",
      "\tat org.scijava.plugins.scripting.groovy.GroovyScriptEngine.eval(GroovyScriptEngine.java:122)\n",
      "\tat javax.script.AbstractScriptEngine.eval(AbstractScriptEngine.java:264)\n",
      "\tat org.scijava.script.ScriptModule.run(ScriptModule.java:160)\n",
      "\tat org.scijava.module.ModuleRunner.run(ModuleRunner.java:168)\n",
      "\tat org.scijava.jupyter.kernel.evaluator.Worker.run(Worker.java:108)\n",
      "\tat org.scijava.thread.DefaultThreadService$2.run(DefaultThreadService.java:221)\n",
      "\tat java.util.concurrent.Executors$RunnableAdapter.call(Executors.java:511)\n",
      "\tat java.util.concurrent.FutureTask.run(FutureTask.java:266)\n",
      "\tat java.util.concurrent.ThreadPoolExecutor.runWorker(ThreadPoolExecutor.java:1142)\n",
      "\tat java.util.concurrent.ThreadPoolExecutor$Worker.run(ThreadPoolExecutor.java:617)\n",
      "\tat java.lang.Thread.run(Thread.java:745)\n"
     ]
    }
   ],
   "source": [
    "package kitty;\n",
    "import java.util.Scanner ;\n",
    "public class Eric {\n",
    "    public static void main (String[] args){\n",
    "        Scanner tbscan = new Scanner(System.in);\n",
    "        //String firstWord = tbscan.next(); // nect is not implemented yet. \n",
    "        String rest = tbscan.nextLine();\n",
    "        //System.out.println(firstWord);\n",
    "        //System.out.println(rest);\n",
    "        tbscan.close();\n",
    "    }\n",
    "}"
   ]
  },
  {
   "cell_type": "markdown",
   "metadata": {},
   "source": [
    "from https://www.programiz.com/java-programming/examples/factorial"
   ]
  },
  {
   "cell_type": "code",
   "execution_count": 9,
   "metadata": {},
   "outputs": [
    {
     "name": "stdout",
     "output_type": "stream",
     "text": [
      "Factorial of 100 = 0"
     ]
    }
   ],
   "source": [
    "public class Factorial {\n",
    "\n",
    "    public static void main(String[] args) {\n",
    "\n",
    "        int num = 10;\n",
    "        long factorial = 1;\n",
    "        for(int i = 1; i <= num; ++i)\n",
    "        {\n",
    "            // factorial = factorial * i;\n",
    "            factorial *= i;\n",
    "        }\n",
    "        System.out.printf(\"Factorial of %d = %d\", num, factorial);\n",
    "    }\n",
    "}"
   ]
  },
  {
   "cell_type": "markdown",
   "metadata": {},
   "source": [
    "## Multiplication Table"
   ]
  },
  {
   "cell_type": "code",
   "execution_count": 20,
   "metadata": {},
   "outputs": [
    {
     "name": "stderr",
     "output_type": "stream",
     "text": [
      "[ERROR] null\n",
      "java.util.UnknownFormatConversionException: Conversion = '3'\n",
      "\tat java.util.Formatter.checkText(Formatter.java:2579)\n",
      "\tat java.util.Formatter.parse(Formatter.java:2565)\n",
      "\tat java.util.Formatter.format(Formatter.java:2501)\n",
      "\tat java.io.PrintStream.format(PrintStream.java:970)\n",
      "\tat java.io.PrintStream.printf(PrintStream.java:871)\n",
      "\tat org.codehaus.groovy.runtime.DefaultGroovyMethods.sprintf(DefaultGroovyMethods.java:708)\n",
      "\tat org.codehaus.groovy.runtime.DefaultGroovyMethods.sprintf(DefaultGroovyMethods.java:783)\n",
      "\tat org.codehaus.groovy.runtime.DefaultGroovyMethods.printf(DefaultGroovyMethods.java:750)\n",
      "\tat org.codehaus.groovy.runtime.DefaultGroovyMethods.printf(DefaultGroovyMethods.java:742)\n",
      "\tat org.codehaus.groovy.runtime.dgm$497.invoke(Unknown Source)\n",
      "\tat org.codehaus.groovy.runtime.callsite.PojoMetaMethodSite$PojoMetaMethodSiteNoUnwrapNoCoerce.invoke(PojoMetaMethodSite.java:274)\n",
      "\tat org.codehaus.groovy.runtime.callsite.PojoMetaMethodSite.call(PojoMetaMethodSite.java:56)\n",
      "\tat org.codehaus.groovy.runtime.callsite.CallSiteArray.defaultCall(CallSiteArray.java:48)\n",
      "\tat org.codehaus.groovy.runtime.callsite.AbstractCallSite.call(AbstractCallSite.java:113)\n",
      "\tat org.codehaus.groovy.runtime.callsite.AbstractCallSite.call(AbstractCallSite.java:133)\n",
      "\tat MultiplicationTable.main(Script19.groovy:10)\n",
      "\tat sun.reflect.NativeMethodAccessorImpl.invoke0(Native Method)\n",
      "\tat sun.reflect.NativeMethodAccessorImpl.invoke(NativeMethodAccessorImpl.java:62)\n",
      "\tat sun.reflect.DelegatingMethodAccessorImpl.invoke(DelegatingMethodAccessorImpl.java:43)\n",
      "\tat java.lang.reflect.Method.invoke(Method.java:498)\n",
      "\tat org.codehaus.groovy.reflection.CachedMethod.invoke(CachedMethod.java:93)\n",
      "\tat groovy.lang.MetaMethod.doMethodInvoke(MetaMethod.java:325)\n",
      "\tat groovy.lang.MetaClassImpl.invokeMethod(MetaClassImpl.java:1218)\n",
      "\tat groovy.lang.MetaClassImpl.invokeMethod(MetaClassImpl.java:1027)\n",
      "\tat groovy.lang.MetaClassImpl.invokeMethod(MetaClassImpl.java:815)\n",
      "\tat MultiplicationTable.invokeMethod(Script19.groovy)\n",
      "\tat org.codehaus.groovy.runtime.InvokerHelper$1.run(InvokerHelper.java:452)\n",
      "\tat org.scijava.plugins.scripting.groovy.GroovyScriptEngine.eval(GroovyScriptEngine.java:303)\n",
      "\tat org.scijava.plugins.scripting.groovy.GroovyScriptEngine.eval(GroovyScriptEngine.java:122)\n",
      "\tat javax.script.AbstractScriptEngine.eval(AbstractScriptEngine.java:264)\n",
      "\tat org.scijava.script.ScriptModule.run(ScriptModule.java:160)\n",
      "\tat org.scijava.module.ModuleRunner.run(ModuleRunner.java:168)\n",
      "\tat org.scijava.jupyter.kernel.evaluator.Worker.run(Worker.java:108)\n",
      "\tat org.scijava.thread.DefaultThreadService$2.run(DefaultThreadService.java:221)\n",
      "\tat java.util.concurrent.Executors$RunnableAdapter.call(Executors.java:511)\n",
      "\tat java.util.concurrent.FutureTask.run(FutureTask.java:266)\n",
      "\tat java.util.concurrent.ThreadPoolExecutor.runWorker(ThreadPoolExecutor.java:1142)\n",
      "\tat java.util.concurrent.ThreadPoolExecutor$Worker.run(ThreadPoolExecutor.java:617)\n",
      "\tat java.lang.Thread.run(Thread.java:745)\n"
     ]
    }
   ],
   "source": [
    "public class MultiplicationTable {\n",
    "\n",
    "    public static void main(String[] args) {\n",
    "\n",
    "       \n",
    "        for(int i = 1; i <= 10; ++i){\n",
    "            for (int j = 1; j<=10; ++j)\n",
    "            {\n",
    "                //System.out.printf(\"%d * %d = %d \\n\", j, i, j * i);\n",
    "                System.out.printf(\" %3.0 \", j * i);\n",
    "            }\n",
    "            System.out.printf(\"\\n\")\n",
    "        }\n",
    "    }\n",
    "}"
   ]
  },
  {
   "cell_type": "code",
   "execution_count": null,
   "metadata": {},
   "outputs": [],
   "source": []
  }
 ],
 "metadata": {
  "kernelspec": {
   "display_name": "SciJava",
   "language": "groovy",
   "name": "scijava"
  },
  "language_info": {
   "codemirror_mode": "groovy",
   "file_extension": "",
   "mimetype": "",
   "name": "scijava",
   "nbconverter_exporter": "",
   "pygments_lexer": "groovy",
   "version": "1.0"
  }
 },
 "nbformat": 4,
 "nbformat_minor": 4
}
